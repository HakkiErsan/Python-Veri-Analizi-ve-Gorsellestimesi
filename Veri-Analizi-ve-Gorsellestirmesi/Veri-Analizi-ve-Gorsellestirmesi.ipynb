{
 "cells": [
  {
   "cell_type": "code",
   "execution_count": null,
   "metadata": {},
   "outputs": [],
   "source": [
    "#Kütüphaneler, import komutu ile yüklenmektedir.\n",
    "\n",
    "import numpy as np\n",
    "import pandas as pd\n",
    "import matplotlib.pyplot as plt\n",
    "%matplotlib notebook\n",
    "%matplotlib inline\n",
    "import seaborn as sns\n",
    "sns.set(style=\"darkgrid\") "
   ]
  },
  {
   "cell_type": "code",
   "execution_count": null,
   "metadata": {},
   "outputs": [],
   "source": [
    "#Veri setimizi okuyup bir değişkene atayalım\n",
    "\n",
    "salary = pd.read_csv(r\"C:\\Users\\hersann\\Desktop\\employeeearningscy.csv\", encoding=\"latin-1\")\n",
    "\n"
   ]
  },
  {
   "cell_type": "code",
   "execution_count": null,
   "metadata": {},
   "outputs": [],
   "source": [
    "#İlk 5 satırı incelemek için head() metodunu kullanabiliriz.\n",
    "\n",
    "salary.head()"
   ]
  },
  {
   "cell_type": "code",
   "execution_count": null,
   "metadata": {},
   "outputs": [],
   "source": [
    "#Son 5 satırı incelemek için ise tail() metodunu kullanırız.\n",
    "\n",
    "salary.tail()"
   ]
  },
  {
   "cell_type": "code",
   "execution_count": null,
   "metadata": {},
   "outputs": [],
   "source": [
    "#İlk olarak, salary DataFrame'inde columns özelliğini görüntüleyerek sütunlara bakalım.\n",
    "\n",
    "salary.columns"
   ]
  },
  {
   "cell_type": "code",
   "execution_count": null,
   "metadata": {},
   "outputs": [],
   "source": [
    "#Dizindeki dizeleri küçük harfe dönüştürmek için str.lower () işlevini kullanırız.\n",
    "#İşimizi kolaylaştırmak için dizindeki dizelerde boşluk yerine \"_\" işaretini koyarız.\n",
    "\n",
    "salary.columns= salary.columns.str.lower()\n",
    "\n",
    "salary.rename(columns={'total earnings': 'total_earnings','quinn/education incentive':'quinn_incentive'}, inplace=True)"
   ]
  },
  {
   "cell_type": "code",
   "execution_count": null,
   "metadata": {},
   "outputs": [],
   "source": [
    "#Sorun, 'total.earnings' sütununun sayısal olmayan karakter(\",\") içermesidir.\n",
    "#Burada dtypes kullanıp total_earnings'in veri türünün bir \"nesne\" olarak tanındığını görebiliriz.\n",
    "\n",
    "salary.dtypes"
   ]
  },
  {
   "cell_type": "code",
   "execution_count": null,
   "metadata": {},
   "outputs": [],
   "source": [
    "#'total_earnings' ve diğer sayısal karakter içeren sütunların içindeki ',' öğesini bulmamız ve kaldırmamız gerekir. \n",
    "#str.replace () işlevi bunu yapmamıza izin verir.\n",
    "\n",
    "salary['regular']= salary['regular'].str.replace(',','')\n",
    "salary['retro']= salary['retro'].str.replace(',','')\n",
    "salary['other']= salary['other'].str.replace(',','')\n",
    "salary['overtime']= salary['overtime'].str.replace(',','')\n",
    "salary['injured']= salary['injured'].str.replace(',','')\n",
    "salary['detail']= salary['detail'].str.replace(',','')\n",
    "salary['quinn_incentive']= salary['quinn_incentive'].str.replace(',','')\n",
    "salary['total_earnings']= salary['total_earnings'].str.replace(',','')"
   ]
  },
  {
   "cell_type": "code",
   "execution_count": null,
   "metadata": {},
   "outputs": [],
   "source": [
    "#Veri tipimiz nesne olduğundan hala sıralı değil.\n",
    "#Veri tipini değişmeyi pd.to_numeric() ile yapabiliriz.\n",
    "#errors='coerce' geçersiz değerleri null değerine döndürür.\n",
    "\n",
    "salary['regular'] = pd.to_numeric(salary['regular'], errors='coerce')\n",
    "salary['retro'] = pd.to_numeric(salary['retro'], errors='coerce')\n",
    "salary['other'] = pd.to_numeric(salary['other'], errors='coerce')\n",
    "salary['overtime'] = pd.to_numeric(salary['overtime'], errors='coerce')\n",
    "salary['injured'] = pd.to_numeric(salary['injured'], errors='coerce')\n",
    "salary['detail'] = pd.to_numeric(salary['detail'], errors='coerce')\n",
    "salary['quinn_incentive'] = pd.to_numeric(salary['quinn_incentive'], errors='coerce')\n",
    "salary['total_earnings'] = pd.to_numeric(salary['total_earnings'], errors='coerce')"
   ]
  },
  {
   "cell_type": "code",
   "execution_count": null,
   "metadata": {},
   "outputs": [],
   "source": [
    "#Kayıp verileri doldurmak için fillna komutu kullanılır.\n",
    "#Kayıp verilerin yerine 0 değeri girilir.\n",
    "\n",
    "salary.fillna({'regular':0}, inplace=True)\n",
    "salary.fillna({'retro':0}, inplace=True)\n",
    "salary.fillna({'other':0}, inplace=True)\n",
    "salary.fillna({'overtime':0}, inplace=True)\n",
    "salary.fillna({'injured':0}, inplace=True)\n",
    "salary.fillna({'detail':0}, inplace=True)\n",
    "salary.fillna({'quinn_incentive':0}, inplace=True)\n",
    "salary.fillna({'total_earnings':0}, inplace=True)"
   ]
  },
  {
   "cell_type": "code",
   "execution_count": null,
   "metadata": {},
   "outputs": [],
   "source": [
    "#Kayıp veri kalmadıgı görülür.\n",
    "\n",
    "salary.isnull().sum().sum()"
   ]
  },
  {
   "cell_type": "code",
   "execution_count": null,
   "metadata": {},
   "outputs": [],
   "source": [
    "#Tekrar eden değer var mı diye kontrol edilir.\n",
    "\n",
    "salary.duplicated().sum()"
   ]
  },
  {
   "cell_type": "code",
   "execution_count": null,
   "metadata": {},
   "outputs": [],
   "source": [
    "#Tekar eden değerleri kaldırılır.\n",
    "\n",
    "salary.drop_duplicates(keep=False , inplace=True)"
   ]
  },
  {
   "cell_type": "code",
   "execution_count": null,
   "metadata": {},
   "outputs": [],
   "source": [
    "#Toplam kazanç 0'dan büyük olmalı.\n",
    "\n",
    "salary=salary[salary.total_earnings>0]"
   ]
  },
  {
   "cell_type": "code",
   "execution_count": null,
   "metadata": {},
   "outputs": [],
   "source": [
    "#'selected_salary' adlı yeni bir DataFrame oluşturup seçilen sütunlar bu DataFrame'e kaydedilir.\n",
    "\n",
    "selected_salary = salary[['name','department_name','title', 'total_earnings']].copy()"
   ]
  },
  {
   "cell_type": "code",
   "execution_count": null,
   "metadata": {},
   "outputs": [],
   "source": [
    "#Verileri pandastaki sort_values() işlevini kullanarak toplam maaşa göre büyükten küçüğe doğru sıralanır:\n",
    "\n",
    "salary_sort = selected_salary.sort_values('total_earnings', ascending = False)"
   ]
  },
  {
   "cell_type": "code",
   "execution_count": null,
   "metadata": {},
   "outputs": [],
   "source": [
    "#İndex kısmı dağınık duruyor.\n",
    "#reset_index() komutunu kullanarak index kısmı düzeltilir.\n",
    "\n",
    "salary_sort = salary_sort.reset_index(drop = True)"
   ]
  },
  {
   "cell_type": "code",
   "execution_count": null,
   "metadata": {},
   "outputs": [],
   "source": [
    "#groupby ve mean() işlevlerini kullanarak \"salary_average\" adını vereceğimiz bölüme göre ortalama kazançları bulabiliriz.\n",
    "\n",
    "salary_average = salary_sort.groupby('department_name').mean()"
   ]
  },
  {
   "cell_type": "code",
   "execution_count": null,
   "metadata": {},
   "outputs": [],
   "source": [
    "#Baktığımızda departman isimlerinin satır dizini olarak kullanıldığını görürüz.\n",
    "#Bundan kurtulmak için reset_index() fonksiyonunu kullanırız.\n",
    "\n",
    "salary_average = salary_average.reset_index() # reset_index"
   ]
  },
  {
   "cell_type": "code",
   "execution_count": null,
   "metadata": {},
   "outputs": [],
   "source": [
    "#Burada kullandığımız 'total_earnings' aslında departmanların ortalama kazançlarıdır.\n",
    "#Karışıklığı önlemek için sütun ismimizi 'average_earnings' olarak değiştiririz.\n",
    "\n",
    "salary_average.rename(columns = {'total_earnings': 'dept_average'},inplace=True)"
   ]
  },
  {
   "cell_type": "code",
   "execution_count": null,
   "metadata": {},
   "outputs": [],
   "source": [
    "#İki ana veri setimiz var.Biri maaş sıralamamızın olduğu \"salary_sort\" diğeri maaş ortalamamızın olduğu \"salary_average\". \n",
    "#Bu iki veri setini bir araya getirerek departmanların ortalamasına kıyasla her bireyin maaşını görebiliriz.\n",
    "\n",
    "#Her iki veri kümesinde de tutarlı olduğundan \"department_name\" değişkenine katılırız. \n",
    "#Birleştirilmiş verileri \"salary_merged\" adlı yeni bir veri çerçevesine koyalım.\n",
    "\n",
    "salary_merged = pd.merge(salary_sort, salary_average, on = 'department_name')"
   ]
  },
  {
   "cell_type": "code",
   "execution_count": null,
   "metadata": {},
   "outputs": [],
   "source": [
    "#Anormal tespitimiz için IsolationForest import edilir.\n",
    "\n",
    "from sklearn.ensemble import IsolationForest"
   ]
  },
  {
   "cell_type": "code",
   "execution_count": null,
   "metadata": {},
   "outputs": [],
   "source": [
    "#Toplam maaştaki anormallikler için modelimizi tanımlarız\n",
    "\n",
    "model1 = IsolationForest(n_estimators=100,behaviour='new',contamination=float(0.05))\n",
    "\n",
    "\n",
    "min_max = np.linspace(salary_merged['total_earnings'].min(),\n",
    "                      salary_merged['total_earnings'].max(), \n",
    "                      len(salary_merged)).reshape(-1, 1)\n",
    "\n",
    "Y = salary_merged['total_earnings'].values.reshape(-1,1)\n",
    "\n",
    "#Modelimizi eğitiriz\n",
    "model1.fit(min_max)\n",
    "\n",
    "#Eğitimli modeli çağırarak puanlar sütununun değerlerini bulabiliriz.\n",
    "salary_merged['anomaly_score'] = model1.decision_function(Y)\n",
    "\n",
    "#Benzer şekilde eğitimli modeli çağırarak anomali sütununun değerlerini bulabiliriz.\n",
    "salary_merged['outlier'] = model1.predict(Y)"
   ]
  },
  {
   "cell_type": "code",
   "execution_count": null,
   "metadata": {},
   "outputs": [],
   "source": [
    "#Anormal değerleri olanları görebiliriz.\n",
    "\n",
    "salary_merged[salary_merged.outlier==-1].sort_values(by='total_earnings',ascending=False)"
   ]
  },
  {
   "cell_type": "code",
   "execution_count": null,
   "metadata": {},
   "outputs": [],
   "source": [
    "#Normal olarak tespit edilen değerleri görebiliriz.\n",
    "\n",
    "salary_merged[salary_merged.outlier==1].sort_values(by='total_earnings',ascending=False)"
   ]
  },
  {
   "cell_type": "code",
   "execution_count": null,
   "metadata": {},
   "outputs": [],
   "source": [
    "#Anormal olmayan değerlerimizi yeni oluşturduğumuz DataFrame'e atarız.\n",
    "\n",
    "salary_merged1 = salary_merged[(salary_merged.outlier==1)].sort_values(by='total_earnings',ascending=False)\n",
    "\n",
    "salary_merged1 = salary_merged1[['name','department_name','title', 'total_earnings']].copy()"
   ]
  },
  {
   "cell_type": "code",
   "execution_count": null,
   "metadata": {},
   "outputs": [],
   "source": [
    "#Yeni departman ortalamaları oluşturulur.\n",
    "\n",
    "salary_average1=(salary_merged1.groupby('department_name')\n",
    " .mean()\n",
    " .reset_index()\n",
    " .rename(columns = {'total_earnings':'dept_average'}))\n",
    "\n",
    "#Şimdi departman ortalamasını ve bireyin maaşını tekrar birleştiririz.\n",
    "\n",
    "salary_merged1 = pd.merge(salary_merged1, salary_average1, on = 'department_name')"
   ]
  },
  {
   "cell_type": "code",
   "execution_count": null,
   "metadata": {},
   "outputs": [],
   "source": [
    "#Toplam maaş ve departman arasındaki anormallik tespiti için ikinci modelimizi oluştururuz.\n",
    "\n",
    "model2 = IsolationForest(n_estimators=100,behaviour='new',contamination=float(0.05))\n",
    "\n",
    "X1=salary_merged1['dept_average'].values.reshape(-1,1)\n",
    "X2=salary_merged1['total_earnings'].values.reshape(-1,1)\n",
    "X = np.concatenate((X1,X2),axis=1)\n",
    "\n",
    "#Modelimizi eğitiriz\n",
    "model2.fit(X)\n",
    "\n",
    "#Eğitimli modeli çağırarak puanlar sütununun değerlerini bulabiliriz.\n",
    "salary_merged1['anomaly_score'] = model2.decision_function(X)\n",
    "\n",
    "#Benzer şekilde eğitimli modeli çağırarak anomali sütununun değerlerini bulabiliriz.\n",
    "salary_merged1['outlier'] = model2.predict(X)\n"
   ]
  },
  {
   "cell_type": "code",
   "execution_count": null,
   "metadata": {},
   "outputs": [],
   "source": [
    "#Anormallik tespit edilenleri görebiliriz.\n",
    "\n",
    "salary_merged1[salary_merged1.outlier==-1].sort_values(by='total_earnings',ascending=False)"
   ]
  },
  {
   "cell_type": "markdown",
   "metadata": {},
   "source": [
    "### Veri Analizi"
   ]
  },
  {
   "cell_type": "code",
   "execution_count": null,
   "metadata": {},
   "outputs": [],
   "source": [
    "#Normal değerde tespit edilenleri görebiliriz.\n",
    "\n",
    "salary_merged1[salary_merged1.outlier==1].sort_values(by='total_earnings',ascending=False)"
   ]
  },
  {
   "cell_type": "code",
   "execution_count": null,
   "metadata": {},
   "outputs": [],
   "source": [
    "#Anormal olmayan değerlerimizi yeni oluşturduğumuz DataFrame'e atarız.\n",
    "\n",
    "salary_merged2=salary_merged1[(salary_merged1.outlier == 1)].sort_values(by='total_earnings',ascending=False)\n",
    "\n",
    "salary_merged2 = salary_merged2[['name','department_name','title', 'total_earnings']].copy()"
   ]
  },
  {
   "cell_type": "code",
   "execution_count": null,
   "metadata": {},
   "outputs": [],
   "source": [
    "#Yeni departman ortalamaları oluşturulur.\n",
    "\n",
    "salary_average2=(salary_merged2.groupby('department_name')\n",
    " .mean()\n",
    " .reset_index()\n",
    " .rename(columns = {'total_earnings':'dept_average'}))\n",
    "\n",
    "#Şimdi departman ortalamasını ve bireyin maaşını tekrar birleştiririz.\n",
    "\n",
    "salary_merged2 = pd.merge(salary_merged2, salary_average2, on = 'department_name')"
   ]
  },
  {
   "cell_type": "code",
   "execution_count": null,
   "metadata": {},
   "outputs": [],
   "source": [
    "#Tespit edilen anormallikler sonrası tabloyu inceleyelim.\n",
    "\n",
    "salary_merged2.sort_values(by='total_earnings',ascending=False)\n",
    "\n",
    "\n"
   ]
  },
  {
   "cell_type": "code",
   "execution_count": null,
   "metadata": {},
   "outputs": [],
   "source": [
    "#Departman sayısı\n",
    "\n",
    "len(salary_merged2['dept_average'].unique())"
   ]
  },
  {
   "cell_type": "code",
   "execution_count": null,
   "metadata": {},
   "outputs": [],
   "source": [
    "#En yüksek maaşa sahip birey bilgileri\n",
    "\n",
    "salary_merged2.iloc[salary_merged2['total_earnings'].idxmax()]"
   ]
  },
  {
   "cell_type": "code",
   "execution_count": null,
   "metadata": {},
   "outputs": [],
   "source": [
    "#En fazla çalışanı bulunan 10 departman\n",
    "\n",
    "salary_merged2['department_name'].value_counts()[:10]"
   ]
  },
  {
   "cell_type": "code",
   "execution_count": null,
   "metadata": {},
   "outputs": [],
   "source": [
    "#En az çalışanı bulunan 10 departman\n",
    "\n",
    "salary_merged2[salary_merged2.department_name=='Boston Police Department'].head(5)"
   ]
  },
  {
   "cell_type": "code",
   "execution_count": null,
   "metadata": {},
   "outputs": [],
   "source": [
    "#Veri kümesine genel bakış\n",
    "\n",
    "salary_merged2[['total_earnings', 'dept_average']].groupby(['dept_average']).describe()"
   ]
  },
  {
   "cell_type": "code",
   "execution_count": null,
   "metadata": {},
   "outputs": [],
   "source": [
    "#Bireyin toplam kazancı ve departmanının ortalama maaşı arasındaki korelasyon\n",
    "\n",
    "salary_merged2.corr()"
   ]
  },
  {
   "cell_type": "markdown",
   "metadata": {},
   "source": [
    "### Veri Görselleştime"
   ]
  },
  {
   "cell_type": "code",
   "execution_count": null,
   "metadata": {},
   "outputs": [],
   "source": [
    "#Kutu Grafiği\n",
    "\n",
    "fig, ax = plt.subplots(figsize=(18,40))\n",
    "ax.set_ylabel('dept_average')\n",
    "# 2 veri arasındaki kutu grafiği\n",
    "_a = salary_merged2[['total_earnings', 'dept_average']].boxplot(by='dept_average',vert=False, figsize=(6,4), sym='b.', ax=ax)"
   ]
  },
  {
   "cell_type": "code",
   "execution_count": null,
   "metadata": {},
   "outputs": [],
   "source": [
    "#Dağılım Grafiği\n",
    "\n",
    "plt.figure(figsize=(20,10)) \n",
    "__ = sns.regplot(data=salary_merged2, x='total_earnings', y='dept_average')"
   ]
  },
  {
   "cell_type": "code",
   "execution_count": null,
   "metadata": {},
   "outputs": [],
   "source": [
    "#Tablosal korelasyon matrisini görebiliriz.\n",
    "\n",
    "corr = salary_merged2.corr()\n",
    "___ , ax = plt.subplots(figsize=(13,10)) \n",
    "\n",
    "___ = sns.heatmap(corr, ax=ax,\n",
    "                xticklabels=corr.columns.values,\n",
    "                yticklabels=corr.columns.values,\n",
    "                )\n",
    "\n"
   ]
  },
  {
   "cell_type": "code",
   "execution_count": null,
   "metadata": {},
   "outputs": [],
   "source": [
    "#En yüksek ortalamaya sahip 5 departman\n",
    "\n",
    "higher_values = salary_merged2.groupby(['department_name'])['dept_average'].mean().nlargest(5).values\n",
    "higher_index = salary_merged2.groupby(['department_name'])['dept_average'].mean().nlargest(5).index"
   ]
  },
  {
   "cell_type": "code",
   "execution_count": null,
   "metadata": {},
   "outputs": [],
   "source": [
    "#En yüksek ortalamaya sahip 5 departmanın grafiğini bakarız.\n",
    "\n",
    "plt.figure(figsize=(12,5))\n",
    "plt.ylabel(\"title\")\n",
    "plt.xlabel(\"total_earnings\")\n",
    "pall =sns.color_palette(\"hls\", 8)\n",
    "sns.barplot(y=higher_index,x=higher_values,palette=pall)\n"
   ]
  },
  {
   "cell_type": "code",
   "execution_count": null,
   "metadata": {},
   "outputs": [],
   "source": [
    "#En düşük ortalamaya sahip 5 departman\n",
    "\n",
    "lower_values = salary_merged2.groupby(['department_name'])['dept_average'].mean().nsmallest(5).values\n",
    "lower_index = salary_merged2.groupby(['department_name'])['dept_average'].mean().nsmallest(5).index"
   ]
  },
  {
   "cell_type": "code",
   "execution_count": null,
   "metadata": {},
   "outputs": [],
   "source": [
    "#En düşük ortalamaya sahip 5 departmana bakarız.\n",
    "\n",
    "plt.figure(figsize=(12,5))\n",
    "plt.ylabel(\"department_name\")\n",
    "plt.xlabel(\"total_earnings\")\n",
    "pall =sns.color_palette(\"hls\", 8)\n",
    "sns.barplot(y=lower_index,x=lower_values,palette=pall)\n"
   ]
  },
  {
   "cell_type": "code",
   "execution_count": null,
   "metadata": {},
   "outputs": [],
   "source": [
    "#Departman ortalamasının dağılım grafiği\n",
    "\n",
    "sns.distplot(salary_merged2['dept_average'],color='black',)\n",
    "plt.title('dept_average')\n",
    "sns.despine()"
   ]
  },
  {
   "cell_type": "code",
   "execution_count": null,
   "metadata": {},
   "outputs": [],
   "source": [
    "#Toplam kazancın dağılım grafiği\n",
    "\n",
    "sns.distplot(salary_merged2['total_earnings'],color='black',)\n",
    "plt.title('total_earnings')\n",
    "sns.despine()"
   ]
  },
  {
   "cell_type": "code",
   "execution_count": null,
   "metadata": {},
   "outputs": [],
   "source": [
    "#Toplam maaş ve departman ortalamasının ilişkisel grafiği\n",
    "\n",
    "sns.relplot(x=\"dept_average\",y=\"total_earnings\",\n",
    "            data=salary_merged2,\n",
    "            alpha=0.5,\n",
    "           edgecolor=None)"
   ]
  },
  {
   "cell_type": "code",
   "execution_count": null,
   "metadata": {},
   "outputs": [],
   "source": [
    "#Departman ortalaması 100.000'den fazla olan departmanların keman grafiği\n",
    "\n",
    "sal=salary_merged[salary_merged.dept_average>100000]\n",
    "sns.catplot(x=\"dept_average\",\n",
    "            y=\"total_earnings\",\n",
    "            data=sal,\n",
    "           inner = \"box\", \n",
    "           kind=\"violin\",\n",
    "           palette=\"Pastel1\")"
   ]
  },
  {
   "cell_type": "code",
   "execution_count": null,
   "metadata": {},
   "outputs": [],
   "source": [
    "#Toplam kazanç ve departman ortalamasının birleştirilmiş grafik ile gösterilmesi\n",
    "\n",
    "sns.jointplot(x=\"dept_average\",y=\"total_earnings\",kind='kde',data=salary_merged2)"
   ]
  },
  {
   "cell_type": "code",
   "execution_count": null,
   "metadata": {},
   "outputs": [],
   "source": [
    "#Yeni görselleştirmelerde kullanmak için verimizi departman ortalamasına göre gruplara ayıralım.\n",
    "\n",
    "sal5=salary_merged2[salary_merged2.dept_average<=60000]\n",
    "sal6=salary_merged2[(salary_merged2.dept_average>60000)&(salary_merged2.dept_average<=80000)] \n",
    "sal7=salary_merged2[(salary_merged2.dept_average>80000)&(salary_merged2.dept_average<=100000)] \n",
    "sal8=salary_merged2[salary_merged2.dept_average>100000]"
   ]
  },
  {
   "cell_type": "code",
   "execution_count": null,
   "metadata": {},
   "outputs": [],
   "source": [
    "#Farklı analiz yöntemleriyle analiz yapalım.\n",
    "#Ortalaması 60.000'den küçük departmanlar\n",
    "\n",
    "print(sal5['department_name'].unique())"
   ]
  },
  {
   "cell_type": "code",
   "execution_count": null,
   "metadata": {},
   "outputs": [],
   "source": [
    "#Departman ortalamalarına göre ayrılmış tablolardaki farklı meslek sayıları\n",
    "\n",
    "print('Farklı iş ünvanı sayısı:', len(salary_merged2['title'].unique()) - 1)\n",
    "print('sal5 -> farklı iş ünvanı sayısı:', len(sal5['title'].unique()) - 1)\n",
    "print('sal6 -> farklı iş ünvanı sayısı:', len(sal6['title'].unique()) - 1)\n",
    "print('sal7 -> farklı iş ünvanı sayısı:', len(sal7['title'].unique()) - 1)\n",
    "print('sal8 -> farklı iş ünvanı sayısı:', len(sal8['title'].unique()) - 1)"
   ]
  },
  {
   "cell_type": "code",
   "execution_count": null,
   "metadata": {},
   "outputs": [],
   "source": [
    "#Ortalaması 60.000-80.000 arasında en fazla olan 20 iş\n",
    "\n",
    "sal6['title'].value_counts()[:20]"
   ]
  },
  {
   "cell_type": "code",
   "execution_count": null,
   "metadata": {},
   "outputs": [],
   "source": [
    "#En fazla çalışanı olan mesleklerin gösterimi.\n",
    "\n",
    "print(\"En fazla elemanı olan 3 meslek\\n\",salary_merged2['title'].value_counts().head(3),sep=\"\\n\",\n",
    "      end=\"\\n------------------------------------------------------------------------------\\n\")\n",
    "print(\"60.000'den düşük bütçeli departmanlarda en fazla elemanı olan 3 meslek\\n\",sal5['title'].value_counts().head(3),sep=\"\\n\",\n",
    "      end=\"\\n------------------------------------------------------------------------------\\n\")\n",
    "print(\"60.000-80.000 arası bütçeye sahip departmanlarda en fazla elemanı olan 3 meslek\\n\",sal6['title'].value_counts().head(3),sep=\"\\n\",\n",
    "      end=\"\\n------------------------------------------------------------------------------\\n\")\n",
    "print(\"80.000-100.000 arası bütçeye sahip departmanlarda en fazla elemanı olan 3 meslek\\n\",sal7['title'].value_counts().head(3),sep=\"\\n\",\n",
    "      end=\"\\n------------------------------------------------------------------------------\\n\")\n",
    "print(\"100.000'den yüksek bütçeli departmanlarda en fazla elemanı olan 3 meslek\\n\",sal8['title'].value_counts().head(3),sep=\"\\n\",\n",
    "      end=\"\\n------------------------------------------------------------------------------\\n\")"
   ]
  },
  {
   "cell_type": "code",
   "execution_count": null,
   "metadata": {},
   "outputs": [],
   "source": [
    "#Departman başına benzersiz ünvan sayısı.\n",
    "\n",
    "sal5.groupby('department_name')['title'].nunique().plot(kind='bar')\n",
    "plt.show()"
   ]
  },
  {
   "cell_type": "code",
   "execution_count": null,
   "metadata": {},
   "outputs": [],
   "source": [
    "#Maaş ve departman ortalama kazancının çift yönlü ilişkisinin gösterimi.\n",
    "\n",
    "g = sns.pairplot(sal6[['total_earnings','dept_average']])"
   ]
  },
  {
   "cell_type": "code",
   "execution_count": null,
   "metadata": {},
   "outputs": [],
   "source": [
    "#Departmanlara göre kazanılan maaşların sürü grafiği ile gösterimi.\n",
    "\n",
    "sns.set(style=\"whitegrid\")\n",
    "plt.figure(figsize=(20,8))\n",
    "ax = sns.swarmplot(x = \"department_name\",\n",
    "              y = 'total_earnings', \n",
    "              data = sal7,\n",
    "              size = 3)\n",
    "\n",
    "ax.set_xticklabels(ax.get_xticklabels(), rotation=90)\n",
    "plt.show()"
   ]
  },
  {
   "cell_type": "code",
   "execution_count": null,
   "metadata": {},
   "outputs": [],
   "source": [
    "#Departmanlara göre kazançların grafiği.\n",
    "\n",
    "sns.relplot(x=\"dept_average\", y=\"total_earnings\", data = sal8,hue='department_name')"
   ]
  },
  {
   "cell_type": "code",
   "execution_count": null,
   "metadata": {},
   "outputs": [],
   "source": [
    "#60.000-80.000 arası departmanların kümülatif histogram grafiği.\n",
    "\n",
    "\n",
    "sal6.dept_average.hist(cumulative=True)"
   ]
  },
  {
   "cell_type": "code",
   "execution_count": null,
   "metadata": {},
   "outputs": [],
   "source": [
    "#80.000-100.000 arası ortalama maaşı olan departmanların grafiği\n",
    "\n",
    "sns.set(style=\"whitegrid\")\n",
    "plt.figure(figsize=(20,8))\n",
    "\n",
    "ax = sns.barplot(x=\"department_name\", y=\"dept_average\", data=sal7,palette='muted')\n",
    "ax.set_xticklabels(ax.get_xticklabels(), rotation=90)\n",
    "ax.set_title('Departman Ortalamaları')"
   ]
  },
  {
   "cell_type": "code",
   "execution_count": null,
   "metadata": {},
   "outputs": [],
   "source": [
    "#Maaş yoğunluğu grafiği.\n",
    "\n",
    "x0 = sal5['total_earnings']\n",
    "x1 = sal6['total_earnings']\n",
    "x2 = sal7['total_earnings']\n",
    "x3 = sal8['total_earnings']\n",
    "fig, ax = plt.subplots(figsize=(20, 6))\n",
    "sns.kdeplot(x0, label=\"60.000'den Düşük Ortalamaya Sahip Departman Maaşları\", shade=True, ax=ax)\n",
    "sns.kdeplot(x1, label=\"60.000-80.000 Arası Ortalamaya Sahip Departman Maaşları\", shade=True, ax=ax)\n",
    "sns.kdeplot(x2, label=\"80.000-100.00 Arası Ortalamaya Sahip Departman Maaşları\", shade=True, ax=ax)\n",
    "sns.kdeplot(x3, label=\"100.000'den Yüksek Ortalamaya Sahip Departman Maaşları\", shade=True, ax=ax)\n",
    "plt.xlabel('Alınan Maaş')\n",
    "plt.ylabel('Yoğunluk')\n",
    "title = plt.title('Maaşlar Dağılımı')"
   ]
  },
  {
   "cell_type": "code",
   "execution_count": null,
   "metadata": {},
   "outputs": [],
   "source": [
    "#En fazla işçisi olan 30 meslek çubuk grafiği gösterimi.\n",
    "\n",
    "plt.figure(figsize=(13,8))\n",
    "sectors = salary_merged2['title'].value_counts()[0:30]\n",
    "sns.barplot(y=sectors.index, x=sectors.values, alpha=0.6)\n",
    "plt.xlabel('İş Sayısı', fontsize=16)\n",
    "plt.ylabel(\"İş Ünvanı\", fontsize=16)\n",
    "plt.title(\"Sektör İşçi Sayısı\")\n",
    "plt.show();"
   ]
  },
  {
   "cell_type": "code",
   "execution_count": null,
   "metadata": {},
   "outputs": [],
   "source": [
    "#Mesleklerin adlarını küçük harflere dönüştürürüz.\n",
    "\n",
    "salary_merged2.title = salary_merged2.title.str.lower()\n",
    "\n",
    "#250 değerini kritik olarak ayarlıyoruz.\n",
    "criteria = salary_merged2.title.value_counts()>250\n",
    "\n",
    "#250'den fazla olanları alırız.\n",
    "jobtitlelist = salary_merged2.title.value_counts()[criteria].reset_index()\n",
    "\n",
    "#Meslek ve kazançlardan oluşan bir dataframe oluşturalım.\n",
    "df = salary_merged2[['title', 'total_earnings']]\n",
    "\n",
    "df = df[df.title.isin(jobtitlelist['index'])]\n",
    "\n",
    "pivoted_data = df.pivot_table('total_earnings', index='title' , aggfunc=np.mean)\n",
    "\n",
    "sorted_salaries = pivoted_data.sort_values(by='total_earnings', ascending= False)"
   ]
  },
  {
   "cell_type": "code",
   "execution_count": null,
   "metadata": {},
   "outputs": [],
   "source": [
    "#250'den fazla işçisi olan mesleklerin ortalama maaş grafiği.\n",
    "\n",
    "sorted_salaries=sorted_salaries.reset_index()\n",
    "sns.set(style=\"whitegrid\")\n",
    "plt.figure(figsize=(12,8))\n",
    "\n",
    "ax = sns.barplot(x=\"title\", y=\"total_earnings\", data=sorted_salaries,palette='muted')\n",
    "plt.xlabel('Meslek', fontsize=16)\n",
    "plt.ylabel(\"Ortalama Maaş\", fontsize=16)\n",
    "ax.set_xticklabels(ax.get_xticklabels(), rotation=90)\n",
    "ax.set_title('Meslek Ortalama Maaşları')\n"
   ]
  },
  {
   "cell_type": "code",
   "execution_count": null,
   "metadata": {},
   "outputs": [],
   "source": [
    "\n",
    "\n",
    "\n",
    "\n",
    "\n",
    "\n",
    "\n",
    "#Lightning kütüphanesini import edip görselleştirmelerini inceleyelim.\n",
    "\n",
    "from lightning import Lightning\n",
    "\n",
    "lgn = Lightning(ipython=True,local=True)"
   ]
  },
  {
   "cell_type": "code",
   "execution_count": null,
   "metadata": {},
   "outputs": [],
   "source": [
    "#Dağılım grafiği gösterimi.\n",
    "#Shift tuşuyla fırçalama yapılabilir\n",
    "\n",
    "c = [100,200,100]\n",
    "lgn.scatter(sal7['dept_average'], sal7['total_earnings'],alpha=0.8,brush=True,color=c,size=5)"
   ]
  },
  {
   "cell_type": "code",
   "execution_count": null,
   "metadata": {
    "jupyter": {
     "outputs_hidden": true
    }
   },
   "outputs": [],
   "source": [
    "#Dağılım grafiğinin farklı gösterimi.\n",
    "\n",
    "from numpy import random\n",
    "v = random.rand(8751)\n",
    "lgn.scatter(sal6['total_earnings'], sal6['dept_average'], values=v, alpha=0.6, colormap='YlOrRd',\n",
    "            xaxis='Toplam Maaş', yaxis='Departman Ortalaması')"
   ]
  },
  {
   "cell_type": "code",
   "execution_count": null,
   "metadata": {},
   "outputs": [],
   "source": [
    "#Maaş ve departman ortalama maaşı çizgi grafiği\n",
    "\n",
    "g1=salary_merged2['dept_average'].sort_values().unique()\n",
    "g2=salary_merged2['total_earnings'].sort_values().unique()\n"
   ]
  },
  {
   "cell_type": "code",
   "execution_count": null,
   "metadata": {},
   "outputs": [],
   "source": [
    "#Departman ortalaması artış grafiği.\n",
    "\n",
    "lgn.line(g1, thickness=8, color=[0,0,0])"
   ]
  },
  {
   "cell_type": "code",
   "execution_count": null,
   "metadata": {},
   "outputs": [],
   "source": [
    "#Alınan maaş artışı grafiği\n",
    "\n",
    "lgn.line(g2, thickness=10, color=[25,25,112])"
   ]
  },
  {
   "cell_type": "code",
   "execution_count": null,
   "metadata": {},
   "outputs": [],
   "source": [
    "#Bokeh kütüphanesini import edelim.\n",
    "\n",
    "from bokeh.plotting import figure \n",
    "from bokeh.io import push_notebook,output_notebook, show\n",
    "TOOLS = \"crosshair,pan,wheel_zoom,box_zoom,reset,box_select,lasso_select\""
   ]
  },
  {
   "cell_type": "code",
   "execution_count": null,
   "metadata": {},
   "outputs": [],
   "source": [
    "output_notebook()"
   ]
  },
  {
   "cell_type": "code",
   "execution_count": null,
   "metadata": {},
   "outputs": [],
   "source": [
    "#Departman ortalamalarına göre kazançların grafiği\n",
    "p = figure(tools=TOOLS,plot_width = 400, plot_height = 400, \n",
    "           title = 'Departman Ortalamalarına Göre Kazançlar',\n",
    "           x_axis_label = 'Departman Ortalaması', y_axis_label = 'Toplam Kazanç')\n",
    "p.circle(sal7['dept_average'], sal7['total_earnings'], size = 12, color = 'red', alpha = 0.6,line_color='yellow')\n",
    "p.circle(sal6['dept_average'], sal6['total_earnings'], size = 12, color = 'navy',alpha = 0.6,line_color=\"yellow\")\n",
    "show(p)"
   ]
  },
  {
   "cell_type": "code",
   "execution_count": null,
   "metadata": {
    "jupyter": {
     "outputs_hidden": true
    }
   },
   "outputs": [],
   "source": [
    "#Fareyle üzerinde geldiğimiz departmanın maaşları kırmızı renge dönüşür.\n",
    "\n",
    "from bokeh.models import HoverTool\n",
    "\n",
    "hover = HoverTool(tooltips=None,mode='hline')\n",
    "x=sal8['total_earnings']\n",
    "y=sal8['dept_average']\n",
    "\n",
    "plot = figure(tools=[hover, 'crosshair,pan,wheel_zoom,box_zoom,reset'],plot_height = 500, plot_width = 1000)\n",
    "plot.xaxis.axis_label = 'Maaş'\n",
    "plot.yaxis.axis_label = 'Departman Ortalama Maaş'\n",
    "plot.circle(x,y, size = 12, \n",
    "            color = 'navy', alpha = 0.6,line_color='yellow' , hover_color='red')\n",
    "\n",
    "#Gösterim\n",
    "\n",
    "show(plot)"
   ]
  },
  {
   "cell_type": "code",
   "execution_count": null,
   "metadata": {},
   "outputs": [],
   "source": [
    "#En yüksek işçi sayısına sahip 20 departmanı ve işçi sayılarını alalım.\n",
    "\n",
    "dpname = salary_merged2.groupby(['department_name'], as_index=False).count()\n",
    "top_dpname = dpname.sort_values(by='dept_average', ascending=False).head(20)\n",
    "top_dpname = top_dpname.reset_index().drop(['index', 'name','title','total_earnings'], axis=1)\n",
    "top_dpname_list = top_dpname.department_name.values.tolist()\n",
    "top_dpname_count = top_dpname.dept_average.astype(float).values.tolist()\n",
    "\n",
    "print(top_dpname_list)\n",
    "print(top_dpname_count)"
   ]
  },
  {
   "cell_type": "code",
   "execution_count": null,
   "metadata": {},
   "outputs": [],
   "source": [
    "#En yüksek işçi sayısına sahip 20 departmanın çalıştırdığı işçi sayısının grafiği\n",
    "p = figure(x_range=top_dpname_list, plot_height = 500, plot_width = 500)\n",
    "p.xgrid.visible = False\n",
    "p.xaxis.major_label_orientation = 3.14/4\n",
    "p.xaxis.axis_label = 'Departmanlar'\n",
    "p.ygrid.visible = False\n",
    "p.yaxis.axis_label = 'Departman İşçi Sayısı'\n",
    "p.circle(y=top_dpname_count, x=top_dpname_list, size=15, fill_color=\"black\")\n",
    "show(p)"
   ]
  },
  {
   "cell_type": "code",
   "execution_count": null,
   "metadata": {
    "jupyter": {
     "outputs_hidden": true
    }
   },
   "outputs": [],
   "source": [
    "#Departman ortalamasını çizgi grafiği şeklinde,ortalamaya göre maaşı daire şeklinde göster\n",
    "\n",
    "k = figure(tools=TOOLS,plot_width=800, plot_height=600)\n",
    "k.circle(sal5['dept_average'], sal5['total_earnings'], size=4, color='orange')\n",
    "k.line(sal5['dept_average'], sal5['dept_average'], color='black')\n",
    "\n",
    "#Özellikleri değiştirebiliriz\n",
    "\n",
    "k.grid.grid_line_alpha = 0\n",
    "k.xaxis.axis_label = 'Departman Ortalaması'\n",
    "k.yaxis.axis_label = 'Maaş'\n",
    "k.ygrid.band_fill_color = \"grey\"\n",
    "k.ygrid.band_fill_alpha = 0.5\n",
    "\n",
    "#Gösterim\n",
    "\n",
    "show(k)"
   ]
  },
  {
   "cell_type": "code",
   "execution_count": null,
   "metadata": {
    "jupyter": {
     "outputs_hidden": true
    }
   },
   "outputs": [],
   "source": [
    "#Elmas çizimi şeklinde bir gösterim\n",
    "\n",
    "s = figure(tools=TOOLS,plot_width = 600, plot_height = 600, \n",
    "           title = 'Departman Ortalaması-Toplam Kazanç',\n",
    "           x_axis_label = 'Departman Ortalaması', y_axis_label = 'Toplam Kazanç')\n",
    "s.diamond(sal7['dept_average'], sal7['total_earnings'],color = 'black', alpha = 0.6,line_color='yellow',size=12)\n",
    "show(s)"
   ]
  },
  {
   "cell_type": "code",
   "execution_count": null,
   "metadata": {
    "scrolled": true
   },
   "outputs": [],
   "source": [
    "# En fazla işçisi bulunan 10 departmanın pasta grafiği.\n",
    "\n",
    "from math import pi\n",
    "from bokeh.palettes import Category20c\n",
    "from bokeh.transform import cumsum\n",
    "\n",
    "\n"
   ]
  },
  {
   "cell_type": "code",
   "execution_count": null,
   "metadata": {},
   "outputs": [],
   "source": [
    "# En fazla işçisi bulunan 10 departmanın pasta grafiği.\n",
    "d_name = salary_merged2['department_name'].value_counts()[:10]\n",
    "data = pd.Series(d_name).reset_index(name='value').rename(columns={'index':'department_name'})\n",
    "data['angle'] = data['value']/data['value'].sum() * 2*pi\n",
    "data['color'] = Category20c[len(d_name)]\n",
    "\n",
    "p = figure(plot_height=350, title=\"Pasta Grafiği\", toolbar_location=None,\n",
    "           tools=\"hover\", tooltips=\"@department_name: @value\", x_range=(-0.5, 1.0))\n",
    "p.wedge(x=0, y=1, radius=0.4,\n",
    "        start_angle=cumsum('angle', include_zero=True), end_angle=cumsum('angle'),\n",
    "        line_color=\"black\", fill_color='color',legend='department_name', source=data)\n",
    "p.axis.axis_label=None\n",
    "p.axis.visible=False\n",
    "p.grid.grid_line_color = None\n",
    "show(p)"
   ]
  },
  {
   "cell_type": "code",
   "execution_count": null,
   "metadata": {},
   "outputs": [],
   "source": [
    "df = salary_merged2.copy()"
   ]
  },
  {
   "cell_type": "markdown",
   "metadata": {},
   "source": [
    "#### MACHINE LEARNING"
   ]
  },
  {
   "cell_type": "code",
   "execution_count": null,
   "metadata": {},
   "outputs": [],
   "source": [
    "# Makine öğrenmesi kullanarak çalışanların maaşlarının tahmini yapılacaktır.\n",
    "# Maaş tahmini için linear regression ve RandomForest Regression algoritmaları kullanılacaktır. \n",
    "# Tahminlerimizi yapmak için sklearn kütüphanesinden algoritmaları eklenir.\n",
    "from sklearn.linear_model import LinearRegression\n",
    "from sklearn.ensemble import RandomForestRegressor"
   ]
  },
  {
   "cell_type": "code",
   "execution_count": null,
   "metadata": {},
   "outputs": [],
   "source": [
    "# Algoritmaların performanslarını ölçmek için metrikler eklerinir.\n",
    "from sklearn.metrics import r2_score , explained_variance_score , mean_absolute_error\n",
    "from sklearn.metrics import mean_squared_error , max_error"
   ]
  },
  {
   "cell_type": "code",
   "execution_count": null,
   "metadata": {},
   "outputs": [],
   "source": [
    "# Makine öğrenimi için nesne türündeki departman ve meslek sütunlarını önce kategorik değişkene çevirilir.\n",
    "\n",
    "df['department_name']=pd.Categorical(df['department_name'])\n",
    "df['title']=pd.Categorical(df['title'])"
   ]
  },
  {
   "cell_type": "code",
   "execution_count": null,
   "metadata": {},
   "outputs": [],
   "source": [
    "# Dataframe'deki yeni tipler.\n",
    "\n",
    "df.dtypes"
   ]
  },
  {
   "cell_type": "code",
   "execution_count": null,
   "metadata": {},
   "outputs": [],
   "source": [
    "# Daha başarılı sonuçlar elde etmek için kategorik değişkenler kukla değişkenlere dönüştürülür.\n",
    "\n",
    "df= pd.get_dummies(df)"
   ]
  },
  {
   "cell_type": "code",
   "execution_count": null,
   "metadata": {},
   "outputs": [],
   "source": [
    "# Veri tablosunun yeni halinin görünüşü.\n",
    "\n",
    "\n",
    "df.head()"
   ]
  },
  {
   "cell_type": "markdown",
   "metadata": {},
   "source": [
    "### LİNEAR REGRESSİON İLE MAAŞ TAHMİNİ"
   ]
  },
  {
   "cell_type": "code",
   "execution_count": null,
   "metadata": {},
   "outputs": [],
   "source": [
    "# Linear Regression için kullanılacak veriler seçilir.\n",
    "# X maaş haricindeki tabloda olan verileri içerir.\n",
    "X = df[df.loc[ : , df.columns != 'total_earnings'].columns]\n",
    "\n",
    "#y hedef verisidir.Çalışanların maaşını içerir.\n",
    "y = df['total_earnings']"
   ]
  },
  {
   "cell_type": "code",
   "execution_count": null,
   "metadata": {},
   "outputs": [],
   "source": [
    "#Linear Regression modeli tanımlanır.\n",
    "lm = LinearRegression()\n",
    "#Tanımlanan model eğitilir.\n",
    "lm.fit(X, y)\n",
    "lm"
   ]
  },
  {
   "cell_type": "code",
   "execution_count": null,
   "metadata": {},
   "outputs": [],
   "source": [
    "#Çalışan maaşlarının tahmini yapılır\n",
    "yhat = lm.predict(X)"
   ]
  },
  {
   "cell_type": "code",
   "execution_count": null,
   "metadata": {},
   "outputs": [],
   "source": [
    "#Linear Regression ile yapılan tahmin tabloya sütun olarak eklenir.\n",
    "df['linear_predict']=yhat"
   ]
  },
  {
   "cell_type": "code",
   "execution_count": null,
   "metadata": {},
   "outputs": [],
   "source": [
    "#Departman ortalaması çalışanın kazandığı maaş ve yapılan tahminler genel bakış.\n",
    "df[['dept_average','total_earnings','linear_predict']]\n"
   ]
  },
  {
   "cell_type": "markdown",
   "metadata": {},
   "source": [
    "### RANDOM FOREST ALGORİTMASI İLE MAAŞ TAHMİNİ"
   ]
  },
  {
   "cell_type": "code",
   "execution_count": null,
   "metadata": {},
   "outputs": [],
   "source": [
    "#Random Forest için kullanılacak veriler seçilir.\n",
    "#x maaş haricindeki tabloda olan verileri içerir.\n",
    "x = df[df.loc[ : , df.columns != 'total_earnings'].columns]\n",
    "#Y hedef veridir.Çalışan maaşını içerir.\n",
    "Y = df['total_earnings']"
   ]
  },
  {
   "cell_type": "code",
   "execution_count": null,
   "metadata": {},
   "outputs": [],
   "source": [
    "#Model tanımlanır ve eğitilir.\n",
    "regressor = RandomForestRegressor(n_estimators=100, random_state=0)\n",
    "regressor.fit(x, Y)"
   ]
  },
  {
   "cell_type": "code",
   "execution_count": null,
   "metadata": {},
   "outputs": [],
   "source": [
    "#Random forest algoritmasıyla çalışan maaşlarının tahmini yapılır.\n",
    "y_predict = regressor.predict(x)"
   ]
  },
  {
   "cell_type": "code",
   "execution_count": null,
   "metadata": {},
   "outputs": [],
   "source": [
    "#Yapılan tahminler tabloya eklenir.\n",
    "df['random_predict'] = y_predict"
   ]
  },
  {
   "cell_type": "code",
   "execution_count": null,
   "metadata": {},
   "outputs": [],
   "source": [
    "#Yapılan tahminler ve maaşlara genel bakış.\n",
    "df[['dept_average','total_earnings','random_predict']]"
   ]
  },
  {
   "cell_type": "code",
   "execution_count": null,
   "metadata": {},
   "outputs": [],
   "source": [
    "#Linear regression ve random forest algoritmalarıyla yapılan tahminler tabloya kalıcı olarak eklenir.\n",
    "df = df[['dept_average','total_earnings','linear_predict','random_predict']]"
   ]
  },
  {
   "cell_type": "code",
   "execution_count": null,
   "metadata": {},
   "outputs": [],
   "source": [
    "#Başta kopyası alınan dataframe(df2) ile yeni tahminleri içeren dataframe birleştirilir.\n",
    "df2.drop(columns=['total_earnings','dept_average'],inplace=True)"
   ]
  },
  {
   "cell_type": "code",
   "execution_count": null,
   "metadata": {},
   "outputs": [],
   "source": [
    "#İki tablonun birleşmesinin sonucu dataframe son halini alır.\n",
    "salary = pd.concat([df2, df], axis=1, sort=False)"
   ]
  },
  {
   "cell_type": "code",
   "execution_count": null,
   "metadata": {},
   "outputs": [],
   "source": [
    "#Toplam maaş ve algoritmaların tahminleri\n",
    "salary.head()"
   ]
  },
  {
   "cell_type": "code",
   "execution_count": null,
   "metadata": {},
   "outputs": [],
   "source": [
    "#Polis memurlarının aldığı maaş ve tahmini maaşları\n",
    "salary[salary.title=='Police Officer'].head()"
   ]
  },
  {
   "cell_type": "markdown",
   "metadata": {},
   "source": [
    "### Performans Metrikleri"
   ]
  },
  {
   "cell_type": "code",
   "execution_count": null,
   "metadata": {},
   "outputs": [],
   "source": [
    "#Algoritmaların performansını ölçmek için metrikler kullanılır.\n",
    "#r kare puanının 1 olması mümkün olan en iyi puandır ve tahminin kuvvetli olduğunu gösterir.\n",
    "print(\"linear regresyon r kare puanı :\",r2_score(y,yhat))\n",
    "print(\"random forest r kare puanı    :\",r2_score(Y,y_predict))"
   ]
  },
  {
   "cell_type": "code",
   "execution_count": null,
   "metadata": {},
   "outputs": [],
   "source": [
    "#Elde edilen tahminlerin ortalama kare hatası\n",
    "print(\"linear regresyon ortalama kare hatası :\",mean_squared_error(y , yhat))\n",
    "print(\"random forest ortalama kare hatası    :\",mean_squared_error(Y,y_predict))"
   ]
  },
  {
   "cell_type": "code",
   "execution_count": null,
   "metadata": {},
   "outputs": [],
   "source": [
    "#Tahminleri ortalama mutlak hatası\n",
    "print(\"linear regresyon ortalama mutlak hatası :\",mean_absolute_error(y , yhat))\n",
    "print(\"random forest ortalama mutlak hatası    :\",mean_absolute_error(Y,y_predict))\n",
    "\n",
    "\n"
   ]
  },
  {
   "cell_type": "code",
   "execution_count": null,
   "metadata": {},
   "outputs": [],
   "source": [
    "#max_error maksimum kalan hatayı gösterir.\n",
    "print(\"linear regresyon maksimum hatası :\",max_error(y , yhat))\n",
    "print(\"random forest maksimum hatası    :\",max_error(Y,y_predict))"
   ]
  },
  {
   "cell_type": "code",
   "execution_count": null,
   "metadata": {},
   "outputs": [],
   "source": [
    "#Açıklanan varyans puanları\n",
    "#Puanların 1'e yakın olması tahminlerin güçlü olduğunu gösterir.\n",
    "print(\"linear regresyon varyans puanı :\",explained_variance_score(y, yhat))\n",
    "print(\"random forest varyans puanı    :\",explained_variance_score(Y,y_predict))"
   ]
  },
  {
   "cell_type": "code",
   "execution_count": null,
   "metadata": {},
   "outputs": [],
   "source": [
    "#Maaşların ve makine tahminlerinin görselleştirilerek karşılaştırılması.\n",
    "x0 = salary['total_earnings']\n",
    "x1 = salary['linear_predict']\n",
    "x2 = salary['random_predict']\n",
    "\n",
    "fig, ax = plt.subplots(figsize=(14, 9))\n",
    "\n",
    "sns.kdeplot(x0, label=\"Veri seti alınan maaşlar\", shade=True, ax=ax)\n",
    "sns.kdeplot(x1, label=\"Linear regresyona göre tahmin edilen maaşlar\", shade=True, ax=ax)\n",
    "sns.kdeplot(x2, label=\"Random foreste göre tahmin edilen maaşlar\", shade=True, ax=ax)\n",
    "\n",
    "plt.xlabel('Maaş')\n",
    "plt.ylabel('Yoğunluk')\n",
    "title = plt.title('Maaşlar Dağılımı')\n",
    "\n"
   ]
  },
  {
   "cell_type": "markdown",
   "metadata": {},
   "source": [
    "### Dask Kütüphanesinin İncelenmesi"
   ]
  },
  {
   "cell_type": "code",
   "execution_count": null,
   "metadata": {},
   "outputs": [],
   "source": [
    "salary.to_csv('bostonsalaries.csv')"
   ]
  },
  {
   "cell_type": "code",
   "execution_count": null,
   "metadata": {},
   "outputs": [],
   "source": [
    "#Kütüphane import edilir.\n",
    "import dask.dataframe as dd"
   ]
  },
  {
   "cell_type": "code",
   "execution_count": null,
   "metadata": {},
   "outputs": [],
   "source": [
    "ddf = dd.read_csv(r\"C:\\Users\\hersann\\bostonsalaries.csv\", encoding=\"latin-1\")"
   ]
  },
  {
   "cell_type": "code",
   "execution_count": null,
   "metadata": {},
   "outputs": [],
   "source": [
    "#Pandasın aksine Dask tembeldir ve buraya hiçbir veri yazdırmaz.\n",
    "ddf"
   ]
  },
  {
   "cell_type": "code",
   "execution_count": null,
   "metadata": {},
   "outputs": [],
   "source": [
    "#Veri türlerine bakılabilir.\n",
    "ddf.dtypes"
   ]
  },
  {
   "cell_type": "code",
   "execution_count": null,
   "metadata": {},
   "outputs": [],
   "source": [
    "#Standart pandas komutları kullanılabilir.\n",
    "ddf.head()"
   ]
  },
  {
   "cell_type": "code",
   "execution_count": null,
   "metadata": {},
   "outputs": [],
   "source": [
    "#Sonuç pandas veri çerçevesinde görülmek istendiğinde .compute() kullanılır.\n",
    "computed_ddf = ddf.compute()\n",
    "type(computed_ddf)"
   ]
  },
  {
   "cell_type": "code",
   "execution_count": null,
   "metadata": {},
   "outputs": [],
   "source": [
    "computed_ddf"
   ]
  },
  {
   "cell_type": "code",
   "execution_count": null,
   "metadata": {},
   "outputs": [],
   "source": [
    "#Dask istemcisi isteğe bağlı başlatılabilir\n",
    "#Hesaplamalar hakkında kullanışlı bir gösterge tablosu sağlar.\n",
    "from dask.distributed import Client, progress\n",
    "client = Client(n_workers=4)\n",
    "client\n",
    "#Yeni sekmede açılır.\n",
    "\n"
   ]
  },
  {
   "cell_type": "code",
   "execution_count": null,
   "metadata": {},
   "outputs": [],
   "source": [
    "%%time\n",
    "#Görev akışını bir bağlam bloğunda toplama\n",
    "#Bu, bu bloğun etkin olduğu sırada çalıştırılan her görev hakkında tanılama bilgileri sağlar.\n",
    "\n",
    "from dask.distributed import get_task_stream\n",
    "with get_task_stream() as ts:\n",
    "    ddf.compute()\n",
    "ts.data"
   ]
  },
  {
   "cell_type": "code",
   "execution_count": null,
   "metadata": {},
   "outputs": [],
   "source": [
    "%%time\n",
    "# Dask için bir ilerleme çubuğu.\n",
    "from dask.diagnostics import ProgressBar\n",
    "#Veri setinin toplam maaşının ortalaması\n",
    "with ProgressBar():\n",
    "    display(ddf.total_earnings.mean().compute())"
   ]
  },
  {
   "cell_type": "code",
   "execution_count": null,
   "metadata": {},
   "outputs": [],
   "source": [
    "%%time\n",
    "#Veri seti için linear regresyonla tahmin edilen maaşın ortalaması\n",
    "with ProgressBar():\n",
    "    display(ddf.linear_predict.mean().compute())"
   ]
  },
  {
   "cell_type": "code",
   "execution_count": null,
   "metadata": {},
   "outputs": [],
   "source": [
    "%%time\n",
    "#Veri seti için linear regresyonla tahmin edilen maaşın ortalaması\n",
    "with ProgressBar():\n",
    "    display(ddf.random_predict.mean().compute())"
   ]
  },
  {
   "cell_type": "code",
   "execution_count": null,
   "metadata": {},
   "outputs": [],
   "source": [
    "#Bu, gelecekteki hesaplamaların çok daha hızlı olmasını sağlar.\n",
    "#Dask tüm verilerin nerede yaşadığını bilir ve isimle temiz bir şekilde endeksler. \n",
    "#Sonuç olarak, rasgele erişim gibi faaliyetler ucuz ve verimlidir.\n",
    "ddf = ddf.persist()"
   ]
  },
  {
   "cell_type": "code",
   "execution_count": null,
   "metadata": {},
   "outputs": [],
   "source": [
    "%%time\n",
    "ddf.linear_predict.mean().compute()"
   ]
  },
  {
   "cell_type": "code",
   "execution_count": null,
   "metadata": {},
   "outputs": [],
   "source": [
    "%%time\n",
    "#Veri tablosunun kaç satırdan oluştuğu sorgulanır.\n",
    "ddf.shape[0].compute()"
   ]
  },
  {
   "cell_type": "code",
   "execution_count": null,
   "metadata": {},
   "outputs": [],
   "source": [
    "%%time\n",
    "#Departmanların kaç çalışanı olduğu gösterilir\n",
    "ddf.department_name.value_counts().compute()"
   ]
  },
  {
   "cell_type": "code",
   "execution_count": null,
   "metadata": {},
   "outputs": [],
   "source": [
    "%%time\n",
    "#Dask dataframe hakkında bilgi.\n",
    "ddf.compute().info()"
   ]
  },
  {
   "cell_type": "code",
   "execution_count": null,
   "metadata": {},
   "outputs": [],
   "source": [
    "%%time\n",
    "#Departmanlarda çalışan maaşlarının standart sapması.\n",
    "ddf.groupby(\"department_name\").total_earnings.std().compute()"
   ]
  },
  {
   "cell_type": "code",
   "execution_count": null,
   "metadata": {},
   "outputs": [],
   "source": [
    "%%time\n",
    "#Departmanlarda çalışanların maaş tahminlerinin standart sapması.\n",
    "ddf.groupby(\"department_name\").linear_predict.std().compute()"
   ]
  },
  {
   "cell_type": "code",
   "execution_count": null,
   "metadata": {},
   "outputs": [],
   "source": [
    "%%time\n",
    "#Departman ortalamaları ve maaş korelasyonu.\n",
    "ddf[['dept_average','total_earnings']].corr().compute()"
   ]
  },
  {
   "cell_type": "code",
   "execution_count": null,
   "metadata": {},
   "outputs": [],
   "source": [
    "%%time\n",
    "#linear regresyon tahminine göre departman ortalamaları ve tahmini maaş korelasyonu.\n",
    "ddf[['dept_average','linear_predict']].corr().compute()"
   ]
  },
  {
   "cell_type": "code",
   "execution_count": null,
   "metadata": {},
   "outputs": [],
   "source": [
    "%%time\n",
    "#random forest tahminine göre departman ortalamaları ve tahmini maaş korelasyonu.\n",
    "ddf[['dept_average','random_predict']].corr().compute()"
   ]
  },
  {
   "cell_type": "code",
   "execution_count": null,
   "metadata": {},
   "outputs": [],
   "source": [
    "%%time\n",
    "#linear ve random forest algoritma tahminleri karşılaştırması\n",
    "with ProgressBar():\n",
    "    display(ddf[['linear_predict','random_predict']].head())"
   ]
  },
  {
   "cell_type": "code",
   "execution_count": null,
   "metadata": {},
   "outputs": [],
   "source": [
    "%%time\n",
    "#Mesleklere göre alınan maaşlar ve linear regresyona göre tahmin edilen maaşların karşılaştırılması.\n",
    "with ProgressBar():\n",
    "    display(ddf[['title','total_earnings','linear_predict']].compute())"
   ]
  },
  {
   "cell_type": "code",
   "execution_count": null,
   "metadata": {},
   "outputs": [],
   "source": [
    "%%time\n",
    "#Mesleklere göre alınan maaşlar ve random foreste göre tahmin edilen maaşların karşılaştırılması. \n",
    "with ProgressBar():\n",
    "    display(ddf[['title', 'total_earnings' , 'random_predict']].tail())"
   ]
  },
  {
   "cell_type": "code",
   "execution_count": null,
   "metadata": {},
   "outputs": [],
   "source": [
    "%%time\n",
    "#Departmanlarda çalışan sayısı\n",
    "with ProgressBar():\n",
    "    dept_count = ddf['department_name'].value_counts().compute()\n",
    "dept_count"
   ]
  },
  {
   "cell_type": "code",
   "execution_count": null,
   "metadata": {},
   "outputs": [],
   "source": [
    "%%time\n",
    "#Departman ortalması 60.000-90.000 olan çalışanları filtreleme\n",
    "with ProgressBar():\n",
    "    condition = (ddf['dept_average'] > 60000) & (ddf['dept_average'] < 90000)    \n",
    "    ddf_filtered = ddf[condition]\n",
    "  \n",
    "\n",
    "\n"
   ]
  },
  {
   "cell_type": "code",
   "execution_count": null,
   "metadata": {},
   "outputs": [],
   "source": [
    "%%time\n",
    "#Filtrelenmiş çalışan listesi\n",
    "ddf_filtered.head()"
   ]
  },
  {
   "cell_type": "code",
   "execution_count": null,
   "metadata": {},
   "outputs": [],
   "source": [
    "%%time\n",
    "#Mesleklere göre maaş ortalaması.\n",
    "ddf.groupby('title').total_earnings.mean().compute()"
   ]
  },
  {
   "cell_type": "code",
   "execution_count": null,
   "metadata": {},
   "outputs": [],
   "source": [
    "%%time\n",
    "#Mesleklere göre linear regresyon algoritması tahmini maaş ortalaması.\n",
    "ddf.groupby('title').linear_predict.mean().compute()"
   ]
  },
  {
   "cell_type": "code",
   "execution_count": null,
   "metadata": {},
   "outputs": [],
   "source": [
    "%%time\n",
    "#Mesleklere göre random forest algoritması tahmini maaş ortalaması.\n",
    "ddf.groupby('title').random_predict.mean().compute()"
   ]
  }
 ],
 "metadata": {
  "kernelspec": {
   "display_name": "Python 3",
   "language": "python",
   "name": "python3"
  },
  "language_info": {
   "codemirror_mode": {
    "name": "ipython",
    "version": 3
   },
   "file_extension": ".py",
   "mimetype": "text/x-python",
   "name": "python",
   "nbconvert_exporter": "python",
   "pygments_lexer": "ipython3",
   "version": "3.7.4"
  }
 },
 "nbformat": 4,
 "nbformat_minor": 4
}
